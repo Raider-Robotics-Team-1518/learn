{
 "cells": [
  {
   "cell_type": "markdown",
   "metadata": {
    "slideshow": {
     "slide_type": "slide"
    }
   },
   "source": [
    "## Learning Python\n",
    "\n",
    "* Basics\n",
    "* Data types and structures\n",
    "* Variables\n",
    "* Control statements\n",
    "* Functions\n",
    "* Classes & objects\n",
    "* Packages & package manager"
   ]
  },
  {
   "cell_type": "markdown",
   "metadata": {
    "slideshow": {
     "slide_type": "slide"
    }
   },
   "source": [
    "# Python\n",
    "\n",
    "* One of the most popular programming languages\n",
    "* Used for: web servers, data analysis, scientific computing, machine learning, artificial intelligence, embedded devices, robotics, and more\n",
    "* Installable on Windows, Mac, Linux, and more\n",
    "* Clean, clear, and concise"
   ]
  },
  {
   "cell_type": "markdown",
   "metadata": {
    "slideshow": {
     "slide_type": "slide"
    }
   },
   "source": [
    "## Sample\n",
    "\n",
    "```python\n",
    "print(\"hello world\")\n",
    "```"
   ]
  },
  {
   "cell_type": "markdown",
   "metadata": {
    "slideshow": {
     "slide_type": "slide"
    }
   },
   "source": [
    "## Sample 2\n",
    "\n",
    "```python\n",
    "import cv2\n",
    "\n",
    "# read an image from the current folder\n",
    "image = cv2.imread('cat.jpg')\n",
    "\n",
    "# then show it in an OpenCV window\n",
    "cv2.imshow('My Cat Pic', image)\n",
    "```"
   ]
  },
  {
   "cell_type": "markdown",
   "metadata": {
    "slideshow": {
     "slide_type": "slide"
    }
   },
   "source": [
    "1. Open a command prompt\n",
    "2. Type **`python3`** <br/>You're now in the \"REPL\" where you can type Python code and run it\n",
    "3. Type the following, then press Enter"
   ]
  },
  {
   "cell_type": "code",
   "execution_count": null,
   "metadata": {
    "slideshow": {
     "slide_type": "-"
    }
   },
   "outputs": [],
   "source": [
    "print('hello world')"
   ]
  },
  {
   "cell_type": "markdown",
   "metadata": {
    "slideshow": {
     "slide_type": "slide"
    }
   },
   "source": [
    "# Congratulations!\n",
    "\n",
    "You're a Python programmer ... almost"
   ]
  },
  {
   "cell_type": "markdown",
   "metadata": {
    "slideshow": {
     "slide_type": "slide"
    }
   },
   "source": [
    "## Let's do a bit more...\n",
    "\n",
    "Let's look at variables, functions, and substring notation\n",
    "\n",
    "For these next slides:\n",
    "\n",
    "* Try to figure out what the code will do\n",
    "* Then, enter it into the \"REPL\" and press Enter"
   ]
  },
  {
   "cell_type": "code",
   "execution_count": null,
   "metadata": {
    "slideshow": {
     "slide_type": "slide"
    }
   },
   "outputs": [],
   "source": [
    "msg = \"hello world\"\n",
    "print(msg)"
   ]
  },
  {
   "cell_type": "code",
   "execution_count": null,
   "metadata": {
    "slideshow": {
     "slide_type": "slide"
    }
   },
   "outputs": [],
   "source": [
    "print(msg.upper())"
   ]
  },
  {
   "cell_type": "code",
   "execution_count": null,
   "metadata": {
    "slideshow": {
     "slide_type": "slide"
    }
   },
   "outputs": [],
   "source": [
    "print(len(msg))"
   ]
  },
  {
   "cell_type": "code",
   "execution_count": null,
   "metadata": {
    "slideshow": {
     "slide_type": "slide"
    }
   },
   "outputs": [],
   "source": [
    "print(msg[4])"
   ]
  },
  {
   "cell_type": "markdown",
   "metadata": {
    "slideshow": {
     "slide_type": "slide"
    }
   },
   "source": [
    "## String slicing\n",
    "\n",
    "Remember, we set:\n",
    "\n",
    "```python\n",
    "msg = \"hello world\"\n",
    "```\n",
    "\n",
    "Since Python starts counting at 0\n",
    "\n",
    "```python\n",
    "msg[4] # represents the 5th character (an \"o\")\n",
    "```\n",
    "\n",
    "*There's a lot more to string slicing, but we'll leave it here for now*"
   ]
  },
  {
   "cell_type": "markdown",
   "metadata": {
    "slideshow": {
     "slide_type": "slide"
    }
   },
   "source": [
    "## Getting user input\n",
    "\n",
    "```python\n",
    "your_name = input(\"What is your name? \")\n",
    "print(your_name)\n",
    "```"
   ]
  },
  {
   "cell_type": "markdown",
   "metadata": {
    "slideshow": {
     "slide_type": "slide"
    }
   },
   "source": [
    "# Variables\n",
    "\n",
    "* Holds some data\n",
    "* Has a name\n",
    "\n",
    "```python\n",
    "pi = 3.14159\n",
    "drive_it = \"like you stole it\"\n",
    "team_number = 1518\n",
    "pi = \"yummy\"\n",
    "```"
   ]
  },
  {
   "cell_type": "markdown",
   "metadata": {
    "slideshow": {
     "slide_type": "slide"
    }
   },
   "source": [
    "# Data types and structures\n",
    "\n",
    "* Strings\n",
    "* Numbers\n",
    "* Booleans\n",
    "* Lists\n",
    "* Tuples\n",
    "* Dictionaries\n"
   ]
  },
  {
   "cell_type": "markdown",
   "metadata": {
    "slideshow": {
     "slide_type": "slide"
    }
   },
   "source": [
    "# Strings\n",
    "\n",
    "* One or more characters, surrounded by single or double quotes\n",
    "* An empty string, e.g. **`\"\"`**\n",
    "* Triple-quoted strings can span across lines\n",
    "* Formatting for output:\n",
    "\n",
    "```python\n",
    "team_num = 1518\n",
    "rating = \"best\"\n",
    "print(\"Team %s is the %s\" % (team_num, rating)) # older way\n",
    "print(\"Team {} is the {}\".format(team_num, rating)) # old way\n",
    "print(f\"Team {team_num} is the {rating}\") # new way\n",
    "```"
   ]
  },
  {
   "cell_type": "markdown",
   "metadata": {
    "slideshow": {
     "slide_type": "slide"
    }
   },
   "source": [
    "# Numbers\n",
    "\n",
    "* Integers and real numbers\n",
    "\n",
    "```python\n",
    "pi = 3.14159\n",
    "radius = 5\n",
    "area = pi * radius * radius\n",
    "\n",
    "print(area)\n",
    "```"
   ]
  },
  {
   "cell_type": "markdown",
   "metadata": {
    "slideshow": {
     "slide_type": "slide"
    }
   },
   "source": [
    "# Booleans\n",
    "\n",
    "* True / Talse values\n",
    "* Capitalization matters\n",
    "\n",
    "```python\n",
    "yup = True\n",
    "nope = False\n",
    "```"
   ]
  },
  {
   "cell_type": "markdown",
   "metadata": {
    "slideshow": {
     "slide_type": "slide"
    }
   },
   "source": [
    "# Lists\n",
    "\n",
    "* Series of values, typically of the same type\n",
    "* Access members by their index (position, starting with 0)\n",
    "\n",
    "```python\n",
    "flavors = ['vanilla', 'chocolate', 'moose tracks', 'coffee']\n",
    "flavors[0]   # 'vanilla'\n",
    "```"
   ]
  },
  {
   "cell_type": "markdown",
   "metadata": {
    "slideshow": {
     "slide_type": "slide"
    }
   },
   "source": [
    "# List methods\n",
    "\n",
    "* `list.append(elem)` -- adds an element to the end of the list\n",
    "* `list.sort()` -- sorts the list in place\n",
    "* `list.reverse()` -- reverses the list in place\n",
    "* `list.insert(index, elem)` -- inserts the element at the given index\n",
    "* ... *more*"
   ]
  },
  {
   "cell_type": "markdown",
   "metadata": {
    "collapsed": true
   },
   "source": [
    "```python\n",
    "print(flavors)\n",
    "flavors.append('strawberry')\n",
    "flavors.sort()\n",
    "print(flavors)\n",
    "```"
   ]
  },
  {
   "cell_type": "markdown",
   "metadata": {
    "slideshow": {
     "slide_type": "slide"
    }
   },
   "source": [
    "# Tuples\n",
    "\n",
    "* Group of items, similar to list\n",
    "* But, once defined can't be changed\n",
    "* Use parentheses rather than square-brackets"
   ]
  },
  {
   "cell_type": "markdown",
   "metadata": {
    "collapsed": true
   },
   "source": [
    "```python\n",
    "suits = ('Hearts', 'Diamonds', 'Clubs', 'Spades')\n",
    "print(suits[1])\n",
    "print(len(suits))\n",
    "print(suits.index('Clubs'))\n",
    "```"
   ]
  },
  {
   "cell_type": "markdown",
   "metadata": {
    "slideshow": {
     "slide_type": "slide"
    }
   },
   "source": [
    "# Dictionaries\n",
    "\n",
    "* Store key-value pairs"
   ]
  },
  {
   "cell_type": "markdown",
   "metadata": {
    "collapsed": true
   },
   "source": [
    "```python\n",
    "team1518 = {\n",
    "    'lead_mentor': 'Mr. Schlegel',\n",
    "    'team_number': '1518',\n",
    "    'members': ['Emma', 'Zach', 'Alex']\n",
    "}\n",
    "print(team1518['lead_mentor'])\n",
    "```"
   ]
  },
  {
   "cell_type": "markdown",
   "metadata": {
    "collapsed": true,
    "slideshow": {
     "slide_type": "slide"
    }
   },
   "source": [
    "```python\n",
    "team1518['mentors'] = ['Mr. D', 'Mrs. D', 'Mr. Herrmann']\n",
    "print(team1518.keys())\n",
    "```"
   ]
  },
  {
   "cell_type": "markdown",
   "metadata": {
    "slideshow": {
     "slide_type": "slide"
    }
   },
   "source": [
    "# Control structures\n",
    "\n",
    "* If / elif / else\n",
    "* Loops\n",
    "    * for loops\n",
    "    * while loops"
   ]
  },
  {
   "cell_type": "markdown",
   "metadata": {
    "slideshow": {
     "slide_type": "slide"
    }
   },
   "source": [
    "# If / else blocks\n",
    "\n",
    "General form:\n",
    "\n",
    "```python\n",
    "if boolean_condition_is_true:\n",
    "    # do this\n",
    "elif some_other_condition_is_true:\n",
    "    # do that\n",
    "else:\n",
    "    # neither was true, do this other thing\n",
    "```"
   ]
  },
  {
   "cell_type": "markdown",
   "metadata": {
    "collapsed": true,
    "slideshow": {
     "slide_type": "slide"
    }
   },
   "source": [
    "```python\n",
    "today = 'Wednesday'\n",
    "if today == 'Monday':\n",
    "    print('Boo hoo')\n",
    "elif today == 'Friday':\n",
    "    print('Yay!')\n",
    "else:\n",
    "    print('Is it the weekend yet?')\n",
    "print('not part of the if block')\n",
    "```"
   ]
  },
  {
   "cell_type": "markdown",
   "metadata": {
    "slideshow": {
     "slide_type": "slide"
    }
   },
   "source": [
    "# Conditional operators\n",
    "\n",
    "```\n",
    "Operator     When to use\n",
    "--------     -------------------------------\n",
    "==           equality test between like types\n",
    "is           test object equivalence\n",
    "```"
   ]
  },
  {
   "cell_type": "markdown",
   "metadata": {
    "collapsed": true,
    "slideshow": {
     "slide_type": "slide"
    }
   },
   "source": [
    "```python\n",
    "robots_are_cool = True\n",
    "if robots_are_cool is True:\n",
    "    print('Yeah baby')\n",
    "```"
   ]
  },
  {
   "cell_type": "markdown",
   "metadata": {
    "collapsed": true,
    "slideshow": {
     "slide_type": "fragment"
    }
   },
   "source": [
    "```python\n",
    "if robots_are_cool:\n",
    "    print('shortcut')\n",
    "```"
   ]
  },
  {
   "cell_type": "markdown",
   "metadata": {
    "collapsed": true,
    "slideshow": {
     "slide_type": "fragment"
    }
   },
   "source": [
    "```python\n",
    "yay_robots = robots_are_cool\n",
    "if yay_robots is robots_are_cool:\n",
    "    print('point to same object')\n",
    "```"
   ]
  },
  {
   "cell_type": "markdown",
   "metadata": {
    "slideshow": {
     "slide_type": "slide"
    }
   },
   "source": [
    "# For loops\n",
    "\n",
    "General form:\n",
    "\n",
    "```python\n",
    "for variable in set:\n",
    "    # body, indented (typically 4 spaces)\n",
    "# outdented line not part of loop\n",
    "```"
   ]
  },
  {
   "cell_type": "markdown",
   "metadata": {
    "collapsed": true,
    "slideshow": {
     "slide_type": "fragment"
    }
   },
   "source": [
    "```python\n",
    "for x in range(4):\n",
    "    print(x)\n",
    "```"
   ]
  },
  {
   "cell_type": "markdown",
   "metadata": {
    "slideshow": {
     "slide_type": "slide"
    }
   },
   "source": [
    "# Iterating over a list\n",
    "\n",
    "```python\n",
    "mentors = ['Mr. D', 'Mrs. D', 'Mr. Herrmann']\n",
    "for mentor in mentors:\n",
    "    print(mentor)\n",
    "```"
   ]
  },
  {
   "cell_type": "markdown",
   "metadata": {
    "slideshow": {
     "slide_type": "slide"
    }
   },
   "source": [
    "# Iterating over a string\n",
    "\n",
    "```python\n",
    "motto = \"We don't just build robots, we build the future\"\n",
    "for letter in motto:\n",
    "    print(letter, end=\", \")\n",
    "```"
   ]
  },
  {
   "cell_type": "markdown",
   "metadata": {
    "slideshow": {
     "slide_type": "slide"
    }
   },
   "source": [
    "# While loops\n",
    "\n",
    "General form:\n",
    "\n",
    "```python\n",
    "while boolean_condition is True:\n",
    "    # do something\n",
    "```"
   ]
  },
  {
   "cell_type": "markdown",
   "metadata": {
    "collapsed": true,
    "slideshow": {
     "slide_type": "fragment"
    }
   },
   "source": [
    "```python\n",
    "i = 0\n",
    "while i < 5:\n",
    "    print(i)\n",
    "    i += 1\n",
    "```"
   ]
  },
  {
   "cell_type": "markdown",
   "metadata": {
    "slideshow": {
     "slide_type": "slide"
    }
   },
   "source": [
    "# Break and continue\n",
    "\n",
    "(With either `for` or `while` loops)"
   ]
  },
  {
   "cell_type": "markdown",
   "metadata": {
    "collapsed": true
   },
   "source": [
    "```python\n",
    "i = 0\n",
    "while i < 6:\n",
    "    i += 1\n",
    "    if i == 3:\n",
    "        continue\n",
    "    if i == 4:\n",
    "        break\n",
    "    print(i)\n",
    "```"
   ]
  },
  {
   "cell_type": "markdown",
   "metadata": {
    "collapsed": true,
    "slideshow": {
     "slide_type": "slide"
    }
   },
   "source": [
    "# An endless loop?!\n",
    "\n",
    "```python\n",
    "i = 0\n",
    "while True:\n",
    "    i += 1\n",
    "    if i == 6:\n",
    "        break\n",
    "    print(i)\n",
    "```"
   ]
  },
  {
   "cell_type": "markdown",
   "metadata": {
    "slideshow": {
     "slide_type": "slide"
    }
   },
   "source": [
    "# Arithmetic Operators\n",
    "\n",
    "```\n",
    "Operator     Use / Purpose\n",
    "--------     --------------------------\n",
    "   +         Add or concatenate\n",
    "   -         Subtract\n",
    "   *         Multiply\n",
    "   /         Divide\n",
    "   **        Exponentiation\n",
    "   //        Floor division (say what?)\n",
    "   %         Modulo (huh?)\n",
    "```"
   ]
  },
  {
   "cell_type": "code",
   "execution_count": null,
   "metadata": {
    "slideshow": {
     "slide_type": "slide"
    }
   },
   "outputs": [],
   "source": [
    "print(1 + 2)\n",
    "print(5 - 2)\n",
    "print(5 * 5)\n",
    "print('!' * 5)\n",
    "print(144 / 12)\n",
    "print(2 ** 3)\n",
    "print(121 // 3)\n",
    "print(121 % 3)"
   ]
  },
  {
   "cell_type": "markdown",
   "metadata": {
    "slideshow": {
     "slide_type": "slide"
    }
   },
   "source": [
    "# Comparison Operators\n",
    "\n",
    "```\n",
    "Operator     Use / Purpose\n",
    "--------     --------------------------\n",
    "   ==        Equals\n",
    "   !=        Not equals\n",
    "   >         Greater than\n",
    "   <         Less than\n",
    "   >=        Greater than or equal to\n",
    "   <=        Less than or equal to\n",
    "```"
   ]
  },
  {
   "cell_type": "markdown",
   "metadata": {
    "slideshow": {
     "slide_type": "slide"
    }
   },
   "source": [
    "# Logical Operators\n",
    "\n",
    "```\n",
    "Operator     Use / Purpose\n",
    "--------     --------------------------\n",
    "   and       True if both conditions are True\n",
    "   or        True if either condition is True\n",
    "   not       True if operand is False\n",
    "```"
   ]
  },
  {
   "cell_type": "markdown",
   "metadata": {
    "collapsed": true
   },
   "source": [
    "```python\n",
    "if True and True:\n",
    "    # this block would execute\n",
    "if True and False:\n",
    "    # this block would not execute\n",
    "if True or False:\n",
    "    # but this one would\n",
    "if not False:\n",
    "    # as would this one too\n",
    "```"
   ]
  },
  {
   "cell_type": "markdown",
   "metadata": {
    "slideshow": {
     "slide_type": "slide"
    }
   },
   "source": [
    "# Assignment Operators\n",
    "\n",
    "```\n",
    "Operator     Use / Purpose          Example\n",
    "--------     -----------------      ---------\n",
    "   =         Assigns value          x = 5\n",
    "   +=        Adds and assign        x += 5 # now 10\n",
    "   -=        Subtracts, assigns     x -= 5 # back to 5\n",
    "   *=        Multiplies, assigns    x *= 5 # now 25\n",
    "   ... and so forth\n",
    "```\n"
   ]
  },
  {
   "cell_type": "markdown",
   "metadata": {
    "slideshow": {
     "slide_type": "slide"
    }
   },
   "source": [
    "# Special Operators\n",
    "\n",
    "```\n",
    "Operator       Use / Purpose\n",
    "--------       --------------------------\n",
    "   is          True if operands refer to same object\n",
    "   is not      True if not referencing the same object\n",
    "   in          True if operand within set\n",
    "   not in      True if operand is not within set\n",
    "```"
   ]
  },
  {
   "cell_type": "markdown",
   "metadata": {
    "slideshow": {
     "slide_type": "slide"
    }
   },
   "source": [
    "# Functions\n",
    "\n",
    "Named, re-usable bits of code"
   ]
  },
  {
   "cell_type": "code",
   "execution_count": null,
   "metadata": {},
   "outputs": [],
   "source": [
    "def add_numbers(a, b):\n",
    "    return a + b\n",
    "\n",
    "c = add_numbers(10, 12)\n",
    "print(c)"
   ]
  },
  {
   "cell_type": "markdown",
   "metadata": {
    "slideshow": {
     "slide_type": "slide"
    }
   },
   "source": [
    "# Default argument values"
   ]
  },
  {
   "cell_type": "code",
   "execution_count": null,
   "metadata": {},
   "outputs": [],
   "source": [
    "def add_numbers(a, b=10):\n",
    "    return a + b\n",
    "\n",
    "print(add_numbers(3))"
   ]
  },
  {
   "cell_type": "markdown",
   "metadata": {
    "slideshow": {
     "slide_type": "slide"
    }
   },
   "source": [
    "# Returning values from a function\n",
    "\n",
    "* Return a value using the `return` keyword\n",
    "* You can return *only* a single value\n",
    "* To return multiple values, use a complex data type"
   ]
  },
  {
   "cell_type": "code",
   "execution_count": null,
   "metadata": {
    "slideshow": {
     "slide_type": "fragment"
    }
   },
   "outputs": [],
   "source": [
    "def fn(a):\n",
    "    # Return multiple values in a tuple, dict, or list\n",
    "    return (\"Something\", a)  # a tuple\n",
    "\n",
    "the_results = fn(10)\n",
    "print(f'Second tuple member = {the_results[1]}')"
   ]
  },
  {
   "cell_type": "markdown",
   "metadata": {
    "slideshow": {
     "slide_type": "slide"
    }
   },
   "source": [
    "# A trick - destructuring\n",
    "\n",
    "* Same function, returning a tuple\n",
    "* We assign individual variables for each tuple member\n",
    "* To return multiple values, use a complex data type"
   ]
  },
  {
   "cell_type": "code",
   "execution_count": null,
   "metadata": {
    "slideshow": {
     "slide_type": "slide"
    }
   },
   "outputs": [],
   "source": [
    "def fn(a):\n",
    "    # Return multiple values in a tuple, dict, or list\n",
    "    return (\"Something\", a)  # a tuple\n",
    "\n",
    "a, b = fn(10)\n",
    "print(f'Second tuple member = {b}')\n",
    "\n",
    "_, b = fn(10)\n",
    "print(b)"
   ]
  },
  {
   "cell_type": "markdown",
   "metadata": {
    "slideshow": {
     "slide_type": "slide"
    }
   },
   "source": [
    "# Classes and objects\n",
    "\n",
    "**class** - like a recipe\n",
    "\n",
    "**object** (or instance) - like the dish you made from the recipe"
   ]
  },
  {
   "cell_type": "markdown",
   "metadata": {
    "collapsed": true,
    "slideshow": {
     "slide_type": "slide"
    }
   },
   "source": [
    "```python\n",
    "class Robot:\n",
    "    max_weight = 120\n",
    "    \n",
    "steve = Robot()\n",
    "print(steve.max_weight)\n",
    "```"
   ]
  },
  {
   "cell_type": "markdown",
   "metadata": {
    "slideshow": {
     "slide_type": "fragment"
    }
   },
   "source": [
    "# Take-aways\n",
    "\n",
    "* Classes defined with the `class`  keyword\n",
    "* Classes -> Title case name\n",
    "* Can have class-wide characteristics (properties and methods)\n",
    "* Instances -> lowercase name\n",
    "* Access properties with \"dot\" notation"
   ]
  },
  {
   "cell_type": "code",
   "execution_count": null,
   "metadata": {
    "slideshow": {
     "slide_type": "slide"
    }
   },
   "outputs": [],
   "source": [
    "class Robot:\n",
    "    max_weight = 120\n",
    "    \n",
    "    def __init__(self):\n",
    "        self.weight = 0\n",
    "\n",
    "    def set_weight(self, my_weight):\n",
    "        self.weight = my_weight\n",
    "\n",
    "steve = Robot()\n",
    "print(steve.weight)"
   ]
  },
  {
   "cell_type": "code",
   "execution_count": null,
   "metadata": {
    "slideshow": {
     "slide_type": "fragment"
    }
   },
   "outputs": [],
   "source": [
    "steve.set_weight(150)\n",
    "print(steve.weight)"
   ]
  },
  {
   "cell_type": "code",
   "execution_count": null,
   "metadata": {
    "slideshow": {
     "slide_type": "fragment"
    }
   },
   "outputs": [],
   "source": [
    "if steve.weight > Robot.max_weight:\n",
    "    print('You are too heavy Steve!')\n",
    "if steve.weight > steve.max_weight:\n",
    "    print('Works this way too')"
   ]
  },
  {
   "cell_type": "markdown",
   "metadata": {
    "collapsed": true,
    "slideshow": {
     "slide_type": "slide"
    }
   },
   "source": [
    "```python\n",
    "class Robot:\n",
    "    max_weight = 120\n",
    "    \n",
    "    def __init__(self, name, game):\n",
    "        self.name = name\n",
    "        self.game = game\n",
    "\n",
    "    def drive(self, direction, speed):\n",
    "        # do whatever to drive the bot\n",
    "\n",
    "steve = Robot('Steve', 'Recycle Rush')\n",
    "steve2 = Robot('Steve 2.0', 'PowerUp!')\n",
    "steve2.drive('forward', 20)\n",
    "```"
   ]
  },
  {
   "cell_type": "markdown",
   "metadata": {
    "slideshow": {
     "slide_type": "slide"
    }
   },
   "source": [
    "# Modules (libraries, packages)\n",
    "\n",
    "Add-ons to the core Python functionality\n",
    "\n",
    "* Standard library - https://docs.python.org/3/library/index.html\n",
    "    * `math` - mathematical functions\n",
    "    * `datetime` - date and time functions\n",
    "    * `random` - random number generator"
   ]
  },
  {
   "cell_type": "code",
   "execution_count": null,
   "metadata": {
    "slideshow": {
     "slide_type": "slide"
    }
   },
   "outputs": [],
   "source": [
    "import math\n",
    "\n",
    "# round() built-in, not part of math lib\n",
    "print('ceil() rounds up {}'.format(math.ceil(11.2345)))\n",
    "# abs() built-in\n",
    "print('Floating point abs {}'.format(math.fabs(-23)))\n",
    "print('Log 10 {}'.format(math.log10(1.2)))\n",
    "print('Exponentiation {}'.format(math.pow(2,3)))\n"
   ]
  },
  {
   "cell_type": "code",
   "execution_count": null,
   "metadata": {
    "slideshow": {
     "slide_type": "slide"
    }
   },
   "outputs": [],
   "source": [
    "from datetime import date, datetime, timedelta\n",
    "\n",
    "today = date.today() # today's date\n",
    "now = datetime.now() # date and time of now\n",
    "print(today)\n",
    "print(now)\n",
    "print(now.strftime('%m/%d/%Y'))\n",
    "one_day = timedelta(days=1)\n",
    "tomorrow = today + one_day\n",
    "print(tomorrow)"
   ]
  },
  {
   "cell_type": "code",
   "execution_count": null,
   "metadata": {
    "slideshow": {
     "slide_type": "slide"
    }
   },
   "outputs": [],
   "source": [
    "import random\n",
    "\n",
    "print(random.randint(0,10))    # integer a <= N <= b\n",
    "print(random.randrange(0,100)) # integer a <= N < b\n",
    "print(random.random())         # float 0.0 <= N < 1.0\n",
    "print(random.uniform(0,10))    # float   a <= N <= b"
   ]
  },
  {
   "cell_type": "markdown",
   "metadata": {
    "slideshow": {
     "slide_type": "slide"
    }
   },
   "source": [
    "# Third-party libraries\n",
    "\n",
    "* Not part of Python\n",
    "* Anyone can publish a Python module\n",
    "* Popular ones are published to the PyPi and/or Anaconda repositories\n",
    "* Install with a package manager"
   ]
  },
  {
   "cell_type": "markdown",
   "metadata": {
    "slideshow": {
     "slide_type": "slide"
    }
   },
   "source": [
    "# Standard Python\n",
    "\n",
    "The **`pip`** package installer\n",
    "\n",
    "`pip install somePackage`\n",
    "\n",
    "# Anaconda\n",
    "\n",
    "* Part of the Anaconda ecosystem\n",
    "* Selected, popular, well-maintained packages\n",
    "\n",
    "`conda install somePackage`\n",
    "\n",
    "Or, when that doesn't work, use `pip`\n",
    "\n",
    "\n"
   ]
  },
  {
   "cell_type": "markdown",
   "metadata": {
    "slideshow": {
     "slide_type": "slide"
    }
   },
   "source": [
    "# Popular packages\n",
    "\n",
    "* Numpy - powerful & fast arrays, fourier transforms, and more\n",
    "* Scipy - scientific functions\n",
    "* OpenCV - image and video manipulation functions\n",
    "* MatPlotLib - plotting and image output functions\n",
    "* Pygame - 2D game creation functions\n",
    "* Twisted - networking library\n",
    "* Tensorflow, TFLearn, PyTorch, Caffe, etc. - machine learning / AI\n",
    "* ... lots more"
   ]
  },
  {
   "cell_type": "markdown",
   "metadata": {
    "slideshow": {
     "slide_type": "slide"
    }
   },
   "source": [
    "# Bonus cool stuff to know\n",
    "\n",
    "* Inspect an object with **`dir()`**\n",
    "* Get help with **`help()`**"
   ]
  },
  {
   "cell_type": "code",
   "execution_count": null,
   "metadata": {},
   "outputs": [],
   "source": [
    "my_list = ['Coke', 'Pepsi', 'Mtn Dew']\n",
    "print(dir(my_list))\n",
    "help(dir)"
   ]
  }
 ],
 "metadata": {
  "celltoolbar": "Slideshow",
  "kernelspec": {
   "display_name": "Python 3",
   "language": "python",
   "name": "python3"
  },
  "language_info": {
   "codemirror_mode": {
    "name": "ipython",
    "version": 3
   },
   "file_extension": ".py",
   "mimetype": "text/x-python",
   "name": "python",
   "nbconvert_exporter": "python",
   "pygments_lexer": "ipython3",
   "version": "3.6.7"
  },
  "rise": {
   "enable_chalkboard": true,
   "speed": "fast",
   "theme": "moon"
  }
 },
 "nbformat": 4,
 "nbformat_minor": 2
}
