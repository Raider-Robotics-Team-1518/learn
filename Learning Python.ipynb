{
 "cells": [
  {
   "cell_type": "markdown",
   "metadata": {
    "slideshow": {
     "slide_type": "slide"
    }
   },
   "source": [
    "## Learning Python\n",
    "\n",
    "* Installing python\n",
    "* Tutorials\n",
    "* Basics\n",
    "    * Hello world\n",
    "    * Data types and structures\n",
    "    * Control statements\n",
    "* Functions\n",
    "* Classes & objects\n",
    "* Packages & package manager"
   ]
  },
  {
   "cell_type": "markdown",
   "metadata": {
    "collapsed": true,
    "slideshow": {
     "slide_type": "slide"
    }
   },
   "source": [
    "# Installing\n",
    "\n",
    "Anaconda -- easiest way to get a well-configured python environment\n",
    "\n",
    "https://www.anaconda.com/download/\n",
    "\n",
    "Includes:\n",
    "\n",
    "* Python interpreter (choose the 3.6 version)\n",
    "* Python package manager (anaconda & pip)\n",
    "* Lots of packages, including numpy, scipy, jupyter, etc that we'll use\n",
    "* Visual Studio Code (optional)"
   ]
  },
  {
   "cell_type": "markdown",
   "metadata": {
    "collapsed": true,
    "slideshow": {
     "slide_type": "slide"
    }
   },
   "source": [
    "# Tutorials\n",
    "\n",
    "* https://docs.python.org/3/tutorial/\n",
    "* https://www.python.org/about/gettingstarted/\n",
    "* https://developers.google.com/edu/python/\n",
    "* https://www.learnpython.org/\n",
    "* https://www.codecademy.com/learn/learn-python (some free, some paid)\n",
    "* ... and lots more"
   ]
  },
  {
   "cell_type": "markdown",
   "metadata": {
    "slideshow": {
     "slide_type": "slide"
    }
   },
   "source": [
    "# Typical\n",
    "\n",
    "1. Create a text file or files\n",
    "2. Enter all your python code into them\n",
    "3. Run the file(s) with **`python file_name`**\n",
    "\n",
    "But, we're going to use something else while we get started..."
   ]
  },
  {
   "cell_type": "markdown",
   "metadata": {
    "slideshow": {
     "slide_type": "slide"
    }
   },
   "source": [
    "# Jupyter Notebooks\n",
    "\n",
    "* Mix text, code, and output in a web browser.\n",
    "* Not the way you'll normally program\n",
    "* Great for learning, and sharing code snippets\n",
    "* Installed as part of Anaconda (or install separately)\n",
    "\n",
    "This notebook is available at ____"
   ]
  },
  {
   "cell_type": "markdown",
   "metadata": {
    "slideshow": {
     "slide_type": "slide"
    }
   },
   "source": [
    "1. Open a command prompt\n",
    "2. Type **`jupyter notebook`**\n",
    "3. Click New, Python 3\n",
    "4. Type the following, then press Shift + Enter"
   ]
  },
  {
   "cell_type": "code",
   "execution_count": null,
   "metadata": {
    "collapsed": true,
    "slideshow": {
     "slide_type": "-"
    }
   },
   "outputs": [],
   "source": [
    "print('hello world')"
   ]
  },
  {
   "cell_type": "markdown",
   "metadata": {
    "slideshow": {
     "slide_type": "slide"
    }
   },
   "source": [
    "# Congratulations!\n",
    "\n",
    "You're a Python programmer"
   ]
  },
  {
   "cell_type": "code",
   "execution_count": null,
   "metadata": {
    "collapsed": true,
    "slideshow": {
     "slide_type": "slide"
    }
   },
   "outputs": [],
   "source": [
    "msg = \"hello world\"\n",
    "print(msg.upper())"
   ]
  },
  {
   "cell_type": "code",
   "execution_count": null,
   "metadata": {
    "collapsed": true,
    "slideshow": {
     "slide_type": "slide"
    }
   },
   "outputs": [],
   "source": [
    "print(len(msg))"
   ]
  },
  {
   "cell_type": "code",
   "execution_count": null,
   "metadata": {
    "collapsed": true,
    "slideshow": {
     "slide_type": "slide"
    }
   },
   "outputs": [],
   "source": [
    "print(msg[2])"
   ]
  },
  {
   "cell_type": "code",
   "execution_count": null,
   "metadata": {
    "collapsed": true,
    "slideshow": {
     "slide_type": "slide"
    }
   },
   "outputs": [],
   "source": [
    "print(msg[::-1])"
   ]
  },
  {
   "cell_type": "markdown",
   "metadata": {
    "slideshow": {
     "slide_type": "slide"
    }
   },
   "source": [
    "# What the ?"
   ]
  },
  {
   "cell_type": "markdown",
   "metadata": {
    "slideshow": {
     "slide_type": "slide"
    }
   },
   "source": [
    "# Substring notation\n",
    "\n",
    "```\n",
    "my_string[start_pos:end_pos_plus_1:interval]\n",
    "```\n",
    "\n",
    "### So\n",
    "\n",
    "```\n",
    "print(msg[1:5])\n",
    "```\n",
    "\n",
    "Says to print out the **second** through the **fourth** characters of the `msg` string"
   ]
  },
  {
   "cell_type": "code",
   "execution_count": null,
   "metadata": {
    "collapsed": true,
    "slideshow": {
     "slide_type": "slide"
    }
   },
   "outputs": [],
   "source": [
    "print(msg)\n",
    "print(msg[1:5])\n",
    "print(msg[6:])\n",
    "print(msg[0:6])"
   ]
  },
  {
   "cell_type": "code",
   "execution_count": null,
   "metadata": {
    "collapsed": true,
    "slideshow": {
     "slide_type": "slide"
    }
   },
   "outputs": [],
   "source": [
    "newmsg = input()\n",
    "print(newmsg.title())"
   ]
  },
  {
   "cell_type": "markdown",
   "metadata": {
    "slideshow": {
     "slide_type": "slide"
    }
   },
   "source": [
    "# Data types and structures\n",
    "\n",
    "* Strings\n",
    "* Numbers\n",
    "* Booleans\n",
    "* Lists\n",
    "* Tuples\n",
    "* Dictionaries\n"
   ]
  },
  {
   "cell_type": "markdown",
   "metadata": {
    "slideshow": {
     "slide_type": "slide"
    }
   },
   "source": [
    "# Strings\n",
    "\n",
    "* One or more characters, surrounded by single or double quotes\n",
    "* An empty string, e.g. **`\"\"`**\n",
    "* Triple-quoted strings can span across lines\n",
    "* Formatting for output:"
   ]
  },
  {
   "cell_type": "code",
   "execution_count": null,
   "metadata": {
    "collapsed": true
   },
   "outputs": [],
   "source": [
    "team_num = 1518\n",
    "rating = 'best'\n",
    "print('Team {} is the {}'.format(team_num, rating))\n"
   ]
  },
  {
   "cell_type": "markdown",
   "metadata": {
    "slideshow": {
     "slide_type": "slide"
    }
   },
   "source": [
    "# Numbers\n",
    "\n",
    "* Integers and real numbers\n"
   ]
  },
  {
   "cell_type": "code",
   "execution_count": null,
   "metadata": {
    "collapsed": true
   },
   "outputs": [],
   "source": [
    "pi = 3.14159\n",
    "radius = 5\n",
    "area = pi * radius * radius\n",
    "\n",
    "print(area)"
   ]
  },
  {
   "cell_type": "markdown",
   "metadata": {
    "slideshow": {
     "slide_type": "slide"
    }
   },
   "source": [
    "# Booleans\n",
    "\n",
    "* True / Talse values\n",
    "* Capitalization matters"
   ]
  },
  {
   "cell_type": "code",
   "execution_count": null,
   "metadata": {
    "collapsed": true
   },
   "outputs": [],
   "source": [
    "positive = True\n",
    "negative = False"
   ]
  },
  {
   "cell_type": "markdown",
   "metadata": {
    "slideshow": {
     "slide_type": "slide"
    }
   },
   "source": [
    "# Lists\n",
    "\n",
    "* Series of values, typically of the same type\n",
    "* Access members by their index (position, starting with 0)"
   ]
  },
  {
   "cell_type": "code",
   "execution_count": null,
   "metadata": {
    "collapsed": true
   },
   "outputs": [],
   "source": [
    "flavors = ['vanilla', 'chocolate', 'moose tracks', 'coffee']\n",
    "flavors[0]"
   ]
  },
  {
   "cell_type": "markdown",
   "metadata": {
    "slideshow": {
     "slide_type": "slide"
    }
   },
   "source": [
    "# List methods\n",
    "\n",
    "* `list.append(elem)` -- adds an element to the end of the list\n",
    "* `list.sort()` -- sorts the list in place\n",
    "* `list.reverse()` -- reverses the list in place\n",
    "* `list.insert(index, elem)` -- inserts the element at the given index\n",
    "* ... *more*"
   ]
  },
  {
   "cell_type": "code",
   "execution_count": null,
   "metadata": {
    "collapsed": true
   },
   "outputs": [],
   "source": [
    "print(flavors)\n",
    "flavors.append('strawberry')\n",
    "flavors.sort()\n",
    "print(flavors)"
   ]
  },
  {
   "cell_type": "markdown",
   "metadata": {
    "slideshow": {
     "slide_type": "slide"
    }
   },
   "source": [
    "# Tuples\n",
    "\n",
    "* Group of items, similar to list\n",
    "* But, once defined can't be changed\n",
    "* Use parentheses rather than square-brackets"
   ]
  },
  {
   "cell_type": "code",
   "execution_count": null,
   "metadata": {
    "collapsed": true
   },
   "outputs": [],
   "source": [
    "suits = ('Hearts', 'Diamonds', 'Clubs', 'Spades')\n",
    "print(suits[1])\n",
    "print(len(suits))\n",
    "print(suits.index('Clubs'))"
   ]
  },
  {
   "cell_type": "markdown",
   "metadata": {
    "slideshow": {
     "slide_type": "slide"
    }
   },
   "source": [
    "# Dictionaries\n",
    "\n",
    "* Store key-value pairs"
   ]
  },
  {
   "cell_type": "code",
   "execution_count": null,
   "metadata": {
    "collapsed": true
   },
   "outputs": [],
   "source": [
    "team1518 = {\n",
    "    'lead_mentor': 'Mr. Schlegel',\n",
    "    'team_number': '1518',\n",
    "    'members': ['Emma', 'Zach', 'Alex']\n",
    "}\n",
    "print(team1518['lead_mentor'])"
   ]
  },
  {
   "cell_type": "code",
   "execution_count": null,
   "metadata": {
    "collapsed": true,
    "slideshow": {
     "slide_type": "slide"
    }
   },
   "outputs": [],
   "source": [
    "team1518['mentors'] = ['Mr. D', 'Mrs. D', 'Mr. Herrmann']\n",
    "print(team1518.keys())"
   ]
  },
  {
   "cell_type": "markdown",
   "metadata": {
    "slideshow": {
     "slide_type": "slide"
    }
   },
   "source": [
    "# Control structures\n",
    "\n",
    "* If / elif / else\n",
    "* Loops\n",
    "    * for loops\n",
    "    * while loops"
   ]
  },
  {
   "cell_type": "markdown",
   "metadata": {
    "slideshow": {
     "slide_type": "slide"
    }
   },
   "source": [
    "# If\n",
    "\n",
    "General form:\n",
    "\n",
    "```\n",
    "if boolean_condition_is_true:\n",
    "    # do this\n",
    "elif some_other_condition_is_true:\n",
    "    # do that\n",
    "else:\n",
    "    # neither was true, do this other thing\n",
    "```"
   ]
  },
  {
   "cell_type": "code",
   "execution_count": null,
   "metadata": {
    "collapsed": true,
    "slideshow": {
     "slide_type": "slide"
    }
   },
   "outputs": [],
   "source": [
    "today = 'Wednesday'\n",
    "if today == 'Monday':\n",
    "    print('Boo hoo')\n",
    "elif today == 'Friday':\n",
    "    print('Yay!')\n",
    "else:\n",
    "    print('Is it the weekend yet?')\n",
    "print('not part of the if block')"
   ]
  },
  {
   "cell_type": "markdown",
   "metadata": {
    "slideshow": {
     "slide_type": "slide"
    }
   },
   "source": [
    "# Conditional operators\n",
    "\n",
    "```\n",
    "Operator     When to use\n",
    "--------     -------------------------------\n",
    "==           equality test between like types\n",
    "is           test object equivalence\n",
    "```"
   ]
  },
  {
   "cell_type": "code",
   "execution_count": null,
   "metadata": {
    "collapsed": true,
    "slideshow": {
     "slide_type": "slide"
    }
   },
   "outputs": [],
   "source": [
    "robots_are_cool = True\n",
    "if robots_are_cool is True:\n",
    "    print('Yeah baby')"
   ]
  },
  {
   "cell_type": "code",
   "execution_count": null,
   "metadata": {
    "collapsed": true
   },
   "outputs": [],
   "source": [
    "if robots_are_cool:\n",
    "    print('shortcut')"
   ]
  },
  {
   "cell_type": "code",
   "execution_count": null,
   "metadata": {
    "collapsed": true
   },
   "outputs": [],
   "source": [
    "yay_robots = robots_are_cool\n",
    "if yay_robots is robots_are_cool:\n",
    "    print('point to same object')"
   ]
  },
  {
   "cell_type": "markdown",
   "metadata": {
    "slideshow": {
     "slide_type": "slide"
    }
   },
   "source": [
    "# For loops\n",
    "\n",
    "General form:\n",
    "```\n",
    "for variable in set:\n",
    "    # body, indented (typically 4 spaces)\n",
    "# outdented line not part of loop\n",
    "```"
   ]
  },
  {
   "cell_type": "code",
   "execution_count": null,
   "metadata": {
    "collapsed": true
   },
   "outputs": [],
   "source": [
    "for x in range(4):\n",
    "    print(x)"
   ]
  },
  {
   "cell_type": "markdown",
   "metadata": {
    "slideshow": {
     "slide_type": "slide"
    }
   },
   "source": [
    "# With a list"
   ]
  },
  {
   "cell_type": "code",
   "execution_count": null,
   "metadata": {
    "collapsed": true
   },
   "outputs": [],
   "source": [
    "mentors = ['Mr. D', 'Mrs. D', 'Mr. Herrmann']\n",
    "for mentor in mentors:\n",
    "    print(mentor)"
   ]
  },
  {
   "cell_type": "markdown",
   "metadata": {
    "slideshow": {
     "slide_type": "slide"
    }
   },
   "source": [
    "# With a string"
   ]
  },
  {
   "cell_type": "code",
   "execution_count": null,
   "metadata": {
    "collapsed": true
   },
   "outputs": [],
   "source": [
    "motto = \"We don't just build robots, we build the future\"\n",
    "for letter in motto:\n",
    "    print(letter, end=\", \")"
   ]
  },
  {
   "cell_type": "markdown",
   "metadata": {
    "slideshow": {
     "slide_type": "slide"
    }
   },
   "source": [
    "# While loops\n",
    "\n",
    "General form:\n",
    "\n",
    "```\n",
    "while boolean_condition is True:\n",
    "    # do something\n",
    "```"
   ]
  },
  {
   "cell_type": "code",
   "execution_count": null,
   "metadata": {
    "collapsed": true
   },
   "outputs": [],
   "source": [
    "i = 0\n",
    "while i < 5:\n",
    "    print(i)\n",
    "    i += 1"
   ]
  },
  {
   "cell_type": "markdown",
   "metadata": {
    "slideshow": {
     "slide_type": "slide"
    }
   },
   "source": [
    "# Break and continue\n",
    "\n",
    "(With either `for` or `while` loops)"
   ]
  },
  {
   "cell_type": "code",
   "execution_count": null,
   "metadata": {
    "collapsed": true
   },
   "outputs": [],
   "source": [
    "i = 0\n",
    "while i < 6:\n",
    "    i += 1\n",
    "    if i == 3:\n",
    "        continue\n",
    "    if i == 4:\n",
    "        break\n",
    "    print(i)"
   ]
  },
  {
   "cell_type": "code",
   "execution_count": null,
   "metadata": {
    "collapsed": true,
    "slideshow": {
     "slide_type": "slide"
    }
   },
   "outputs": [],
   "source": [
    "i = 0\n",
    "while True:\n",
    "    i += 1\n",
    "    if i == 6:\n",
    "        break\n",
    "    print(i)"
   ]
  },
  {
   "cell_type": "markdown",
   "metadata": {
    "slideshow": {
     "slide_type": "slide"
    }
   },
   "source": [
    "# Arithmetic Operators\n",
    "\n",
    "```\n",
    "Operator     Use / Purpose\n",
    "--------     --------------------------\n",
    "   +         Add or concatenate\n",
    "   -         Subtract\n",
    "   *         Multiply\n",
    "   /         Divide\n",
    "   **        Exponentiation\n",
    "   //        Floor division (say what?)\n",
    "   %         Modulo (huh?)\n",
    "```"
   ]
  },
  {
   "cell_type": "code",
   "execution_count": null,
   "metadata": {
    "collapsed": true,
    "slideshow": {
     "slide_type": "slide"
    }
   },
   "outputs": [],
   "source": [
    "print(1 + 2)\n",
    "print(5 - 2)\n",
    "print(5 * 5)\n",
    "print('!' * 5)\n",
    "print(144 / 12)\n",
    "print(2 ** 3)\n",
    "print(121 // 3)\n",
    "print(121 % 3)"
   ]
  },
  {
   "cell_type": "markdown",
   "metadata": {
    "slideshow": {
     "slide_type": "slide"
    }
   },
   "source": [
    "# Comparison Operators\n",
    "\n",
    "```\n",
    "Operator     Use / Purpose\n",
    "--------     --------------------------\n",
    "   ==        Equals\n",
    "   !=        Not equals\n",
    "   >         Greater than\n",
    "   <         Less than\n",
    "   >=        Greater than or equal to\n",
    "   <=        Less than or equal to\n",
    "```"
   ]
  },
  {
   "cell_type": "markdown",
   "metadata": {
    "slideshow": {
     "slide_type": "slide"
    }
   },
   "source": [
    "# Logical Operators\n",
    "\n",
    "```\n",
    "Operator     Use / Purpose\n",
    "--------     --------------------------\n",
    "   and       True if both conditions are True\n",
    "   or        True if either condition is True\n",
    "   not       True if operand is False\n",
    "```"
   ]
  },
  {
   "cell_type": "code",
   "execution_count": null,
   "metadata": {
    "collapsed": true
   },
   "outputs": [],
   "source": [
    "if True and True:\n",
    "    # this line would execute\n",
    "if True or False:\n",
    "    # also would execute\n",
    "if not False:\n",
    "    # this one too"
   ]
  },
  {
   "cell_type": "markdown",
   "metadata": {
    "slideshow": {
     "slide_type": "slide"
    }
   },
   "source": [
    "# Assignment Operators\n",
    "\n",
    "```\n",
    "Operator     Use / Purpose          Example\n",
    "--------     -----------------      ---------\n",
    "   =         Assigns value          x = 5\n",
    "   +=        Adds and assign        x += 5 # now 10\n",
    "   -=        Subtracts, assigns     x -= 5 # back to 5\n",
    "   *=        Multiplies, assigns    x *= 5 # now 25\n",
    "   ... and so forth\n",
    "```\n"
   ]
  },
  {
   "cell_type": "markdown",
   "metadata": {
    "slideshow": {
     "slide_type": "slide"
    }
   },
   "source": [
    "# Special Operators\n",
    "\n",
    "```\n",
    "Operator       Use / Purpose\n",
    "--------       --------------------------\n",
    "   is          True if operands refer to same object\n",
    "   is not      True if not referencing the same object\n",
    "   in          True if operand within set\n",
    "   not in      True if operand is not within set\n",
    "```"
   ]
  },
  {
   "cell_type": "markdown",
   "metadata": {
    "slideshow": {
     "slide_type": "slide"
    }
   },
   "source": [
    "# Functions\n",
    "\n",
    "Named, re-usable bits of code"
   ]
  },
  {
   "cell_type": "code",
   "execution_count": null,
   "metadata": {
    "collapsed": true
   },
   "outputs": [],
   "source": [
    "def add_numbers(a, b):\n",
    "    return a + b\n",
    "\n",
    "c = add_numbers(10, 12)\n",
    "print(c)"
   ]
  },
  {
   "cell_type": "markdown",
   "metadata": {
    "slideshow": {
     "slide_type": "slide"
    }
   },
   "source": [
    "# Default argument values"
   ]
  },
  {
   "cell_type": "code",
   "execution_count": null,
   "metadata": {
    "collapsed": true
   },
   "outputs": [],
   "source": [
    "def add_numbers(a, b=10):\n",
    "    return a + b\n",
    "\n",
    "print(add_numbers(3))"
   ]
  },
  {
   "cell_type": "markdown",
   "metadata": {
    "slideshow": {
     "slide_type": "slide"
    }
   },
   "source": [
    "# The special *args parameter"
   ]
  },
  {
   "cell_type": "code",
   "execution_count": null,
   "metadata": {
    "collapsed": true,
    "slideshow": {
     "slide_type": "-"
    }
   },
   "outputs": [],
   "source": [
    "def add_numbers(*args):\n",
    "    sum = 0\n",
    "    for x in args:\n",
    "        sum += x\n",
    "    return sum\n",
    "\n",
    "print(add_numbers(1, 2, 3, 4, 5))"
   ]
  },
  {
   "cell_type": "markdown",
   "metadata": {
    "slideshow": {
     "slide_type": "slide"
    }
   },
   "source": [
    "# The special **kwargs parameter\n",
    "\n",
    "* \"keywords arguments\"\n",
    "* 0 - N named arguments\n",
    "* As a Dictionary inside the function\n",
    "* Could be called anything, but kwargs is typical\n",
    "* Must be preceeded by the double-asterisks"
   ]
  },
  {
   "cell_type": "code",
   "execution_count": null,
   "metadata": {
    "collapsed": true,
    "slideshow": {
     "slide_type": "slide"
    }
   },
   "outputs": [],
   "source": [
    "def print_obj(**kwargs):\n",
    "    for key in kwargs:\n",
    "        print('{} = {}'.format(key, kwargs[key]))\n",
    "\n",
    "print_obj(one=1, two=2, three=3)"
   ]
  },
  {
   "cell_type": "markdown",
   "metadata": {
    "slideshow": {
     "slide_type": "slide"
    }
   },
   "source": [
    "# Combining them\n",
    "\n",
    "```\n",
    "def function(named_args, *args, **kwargs):\n",
    "    # code here\n",
    "```"
   ]
  },
  {
   "cell_type": "code",
   "execution_count": null,
   "metadata": {
    "collapsed": true,
    "slideshow": {
     "slide_type": "slide"
    }
   },
   "outputs": [],
   "source": [
    "def crazy_math(a, b, *args, **kwargs):\n",
    "    if kwargs['heading']:\n",
    "        print(kwargs['heading'])\n",
    "    sum = a + b\n",
    "    for x in args:\n",
    "        sum += x\n",
    "    return sum\n",
    "\n",
    "wow = crazy_math(1, 2, 3, 4, heading=\"Isn't this fun?\")\n",
    "print(wow)"
   ]
  },
  {
   "cell_type": "markdown",
   "metadata": {
    "slideshow": {
     "slide_type": "slide"
    }
   },
   "source": [
    "# Classes and objects\n",
    "\n",
    "**class** - like a recipe\n",
    "\n",
    "**object** (or instance) - like the dish you made from the recipe"
   ]
  },
  {
   "cell_type": "code",
   "execution_count": null,
   "metadata": {
    "collapsed": true,
    "slideshow": {
     "slide_type": "-"
    }
   },
   "outputs": [],
   "source": [
    "class Robot:\n",
    "    max_weight = 120\n",
    "    \n",
    "steve2 = Robot()\n",
    "print(steve2.max_weight)"
   ]
  },
  {
   "cell_type": "code",
   "execution_count": null,
   "metadata": {
    "collapsed": true,
    "slideshow": {
     "slide_type": "slide"
    }
   },
   "outputs": [],
   "source": [
    "class Robot:\n",
    "    max_weight = 120\n",
    "    \n",
    "    def __init__(self):\n",
    "        weight = 0\n",
    "    def set_weight(self, my_weight):\n",
    "        self.weight = my_weight\n",
    "\n",
    "steve2 = Robot()\n",
    "steve2.set_weight(120.1)\n",
    "print(steve2.weight)\n",
    "if steve2.weight > steve2.max_weight:\n",
    "    print('You are too heavy Steve!')\n",
    "if steve2.weight > Robot.max_weight:\n",
    "    print('Works this way too')"
   ]
  },
  {
   "cell_type": "code",
   "execution_count": null,
   "metadata": {
    "collapsed": true,
    "slideshow": {
     "slide_type": "slide"
    }
   },
   "outputs": [],
   "source": [
    "class Robot:\n",
    "    max_weight = 120\n",
    "    \n",
    "    def __init__(self, name, game):\n",
    "        self.name = name\n",
    "        self.game = game\n",
    "\n",
    "    def drive(self, direction, speed):\n",
    "        # do whatever to drive the bot\n",
    "\n",
    "steve = Robot('Steve', 'Recycle Rush')\n",
    "steve2 = Robot('Steve 2.0', 'PowerUp!')\n",
    "steve2.drive('forward', 20)"
   ]
  },
  {
   "cell_type": "markdown",
   "metadata": {
    "slideshow": {
     "slide_type": "slide"
    }
   },
   "source": [
    "# Modules (libraries, packages)\n",
    "\n",
    "Add-ons to the core Python functionality\n",
    "\n",
    "* Standard library - https://docs.python.org/3/library/index.html\n",
    "    * `math` - mathematical functions\n",
    "    * `datetime` - date and time functions\n",
    "    * `random` - random number generator"
   ]
  },
  {
   "cell_type": "code",
   "execution_count": null,
   "metadata": {
    "collapsed": true,
    "slideshow": {
     "slide_type": "slide"
    }
   },
   "outputs": [],
   "source": [
    "import math\n",
    "\n",
    "# round() built-in, not part of math lib\n",
    "print('ceil() rounds up {}'.format(math.ceil(11.2345)))\n",
    "# abs() built-in\n",
    "print('Floating point abs {}'.format(math.fabs(-23)))\n",
    "print('Log 10 {}'.format(math.log10(1.2)))\n",
    "print('Exponentiation {}'.format(math.pow(2,3)))\n"
   ]
  },
  {
   "cell_type": "code",
   "execution_count": null,
   "metadata": {
    "collapsed": true,
    "slideshow": {
     "slide_type": "slide"
    }
   },
   "outputs": [],
   "source": [
    "from datetime import date, datetime, timedelta\n",
    "\n",
    "today = date.today() # today's date\n",
    "now = datetime.now() # date and time of now\n",
    "print(today)\n",
    "print(now)\n",
    "print(now.strftime('%m/%d/%Y'))\n",
    "one_day = timedelta(days=1)\n",
    "tomorrow = today + one_day\n",
    "print(tomorrow)"
   ]
  },
  {
   "cell_type": "code",
   "execution_count": null,
   "metadata": {
    "collapsed": true,
    "slideshow": {
     "slide_type": "slide"
    }
   },
   "outputs": [],
   "source": [
    "import random\n",
    "\n",
    "print(random.randint(0,10))    # integer a <= N <= b\n",
    "print(random.randrange(0,100)) # integer a <= N < b\n",
    "print(random.random())         # float 0.0 <= N < 1.0\n",
    "print(random.uniform(0,10))    # float   a <= N <= b"
   ]
  },
  {
   "cell_type": "markdown",
   "metadata": {
    "slideshow": {
     "slide_type": "slide"
    }
   },
   "source": [
    "# Third-party libraries\n",
    "\n",
    "* Not part of Python\n",
    "* Anyone can publish a Python module\n",
    "* Popular ones are published to the PyPi and/or Anaconda repositories\n",
    "* Install with a package manager"
   ]
  },
  {
   "cell_type": "markdown",
   "metadata": {
    "slideshow": {
     "slide_type": "slide"
    }
   },
   "source": [
    "# Standard Python\n",
    "\n",
    "The **`pip`** package installer\n",
    "\n",
    "`pip install somePackage`\n",
    "\n",
    "# Anaconda\n",
    "\n",
    "* Part of the Anaconda ecosystem\n",
    "* Selected, popular, well-maintained packages\n",
    "\n",
    "`conda install somePackage`\n",
    "\n",
    "Or, when that doesn't work, use `pip`\n",
    "\n",
    "\n"
   ]
  },
  {
   "cell_type": "markdown",
   "metadata": {
    "slideshow": {
     "slide_type": "slide"
    }
   },
   "source": [
    "# Popular packages\n",
    "\n",
    "* Numpy - powerful & fast arrays, fourier transforms, and more\n",
    "* Scipy - scientific functions\n",
    "* OpenCV - image and video manipulation functions\n",
    "* MatPlotLib - plotting and image output functions\n",
    "* Pygame - 2D game creation functions\n",
    "* Twisted - networking library\n",
    "* Tensorflow, TFLearn, PyTorch, Caffe, etc. - machine learning / AI\n",
    "* ... lots more"
   ]
  },
  {
   "cell_type": "markdown",
   "metadata": {
    "slideshow": {
     "slide_type": "slide"
    }
   },
   "source": [
    "1. At a command prompt, type **`pip install swapi`**\n",
    "2. Type **`python`** & press Enter to enter the REPL\n",
    "3. Type **`import swapi`** & press Enter\n",
    "4. Type **`anh = swapi.get_film(1)`** & press Enter\n",
    "5. Type **`anh.print_crawl()`** & press Enter\n",
    "6. Press Ctrl + D to exit the REPL"
   ]
  },
  {
   "cell_type": "markdown",
   "metadata": {
    "slideshow": {
     "slide_type": "slide"
    }
   },
   "source": [
    "# Bonus cool stuff to know\n",
    "\n",
    "* Inspect an object with **`dir()`**\n",
    "* Get help with **`help()`**\n",
    "* Join a list with the string's **`join()`** method"
   ]
  },
  {
   "cell_type": "code",
   "execution_count": null,
   "metadata": {
    "collapsed": true
   },
   "outputs": [],
   "source": [
    "my_list = ['Coke', 'Pepsi', 'Mtn Dew']\n",
    "print(dir(my_list))\n",
    "help(dir)\n",
    "print(', '.join(my_list))"
   ]
  },
  {
   "cell_type": "markdown",
   "metadata": {
    "slideshow": {
     "slide_type": "slide"
    }
   },
   "source": [
    "# Destructuring"
   ]
  },
  {
   "cell_type": "code",
   "execution_count": null,
   "metadata": {
    "collapsed": true
   },
   "outputs": [],
   "source": [
    "a, b, c = [1, 2, 3]\n",
    "print(b)"
   ]
  },
  {
   "cell_type": "code",
   "execution_count": null,
   "metadata": {
    "collapsed": true,
    "slideshow": {
     "slide_type": "-"
    }
   },
   "outputs": [],
   "source": [
    "def fn(a):\n",
    "    return (1, a)\n",
    "\n",
    "a, b = fn(10)\n",
    "print('b = {}'.format(b))\n",
    "\n",
    "_, x = fn(100)\n",
    "print(x)"
   ]
  },
  {
   "cell_type": "markdown",
   "metadata": {
    "collapsed": true,
    "slideshow": {
     "slide_type": "slide"
    }
   },
   "source": [
    "<img src=\"http://3.bp.blogspot.com/-djEUAeXmN80/UzV_DXyT7TI/AAAAAAAALag/u7P_o8ZSig8/s800/Bioshock-infinite-End-Of-Part-1.jpg\" />"
   ]
  }
 ],
 "metadata": {
  "celltoolbar": "Slideshow",
  "kernelspec": {
   "display_name": "Python 3",
   "language": "python",
   "name": "python3"
  },
  "language_info": {
   "codemirror_mode": {
    "name": "ipython",
    "version": 3
   },
   "file_extension": ".py",
   "mimetype": "text/x-python",
   "name": "python",
   "nbconvert_exporter": "python",
   "pygments_lexer": "ipython3",
   "version": "3.6.3"
  }
 },
 "nbformat": 4,
 "nbformat_minor": 2
}
